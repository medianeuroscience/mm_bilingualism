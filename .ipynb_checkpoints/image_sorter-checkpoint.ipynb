{
 "cells": [
  {
   "cell_type": "markdown",
   "metadata": {},
   "source": [
    "This block imports a module that lists all of the files in the \"images\" folder and adds them to a list called \"images\""
   ]
  },
  {
   "cell_type": "code",
   "execution_count": 25,
   "metadata": {
    "collapsed": true
   },
   "outputs": [],
   "source": [
    "import glob\n",
    "import re\n",
    "images = glob.glob(\"images/*\")"
   ]
  },
  {
   "cell_type": "markdown",
   "metadata": {},
   "source": [
    "This block prints all of the image names in a format that you can just copy/paste into excel"
   ]
  },
  {
   "cell_type": "code",
   "execution_count": 26,
   "metadata": {},
   "outputs": [
    {
     "name": "stdout",
     "output_type": "stream",
     "text": [
      "images/antelope.jpg\n",
      "images/bagel01.jpg\n",
      "images/apple01.jpg\n",
      "images/barn.jpg\n",
      "images/armadillo.jpg\n",
      "images/avocado02.jpg\n",
      "images/banana04a.jpg\n",
      "images/antlers.jpg\n",
      "images/banjo.jpg\n",
      "images/bacon.jpg\n",
      "images/almond.jpg\n",
      "images/alligator.jpg\n"
     ]
    }
   ],
   "source": [
    "for s in images:\n",
    "    print(s)"
   ]
  },
  {
   "cell_type": "markdown",
   "metadata": {},
   "source": [
    "Now that we've done that, we need to extract the words that correspond to the images. To do this, we need to split up the file name and add the different chunks to new lists."
   ]
  },
  {
   "cell_type": "code",
   "execution_count": 27,
   "metadata": {},
   "outputs": [],
   "source": [
    "images_split1 = [s.split('/', 1)[1] for s in images]\n",
    "images_split2 = [s.split('.', 1)[0] for s in images_split1]"
   ]
  },
  {
   "cell_type": "code",
   "execution_count": 28,
   "metadata": {},
   "outputs": [
    {
     "name": "stdout",
     "output_type": "stream",
     "text": [
      "antelope\n",
      "bagel01\n",
      "apple01\n",
      "barn\n",
      "armadillo\n",
      "avocado02\n",
      "banana04a\n",
      "antlers\n",
      "banjo\n",
      "bacon\n",
      "almond\n",
      "alligator\n"
     ]
    }
   ],
   "source": [
    "for s in images_split2:\n",
    "    print(s)"
   ]
  }
 ],
 "metadata": {
  "kernelspec": {
   "display_name": "Python 3",
   "language": "python",
   "name": "python3"
  },
  "language_info": {
   "codemirror_mode": {
    "name": "ipython",
    "version": 3
   },
   "file_extension": ".py",
   "mimetype": "text/x-python",
   "name": "python",
   "nbconvert_exporter": "python",
   "pygments_lexer": "ipython3",
   "version": "3.6.3"
  }
 },
 "nbformat": 4,
 "nbformat_minor": 2
}
