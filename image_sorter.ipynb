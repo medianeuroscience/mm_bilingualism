{
 "cells": [
  {
   "cell_type": "code",
   "execution_count": 3,
   "metadata": {
    "collapsed": true
   },
   "outputs": [],
   "source": [
    "import glob\n",
    "import re\n",
    "imagelist = glob.glob(\"images/*\")\n",
    "imagelist_clean = [s.replace(\"'\", \"\") for s in imagelist]"
   ]
  },
  {
   "cell_type": "code",
   "execution_count": 4,
   "metadata": {},
   "outputs": [
    {
     "name": "stdout",
     "output_type": "stream",
     "text": [
      "images/antelope.jpg\n",
      "images/bagel01.jpg\n",
      "images/apple01.jpg\n",
      "images/barn.jpg\n",
      "images/armadillo.jpg\n",
      "images/avocado02.jpg\n",
      "images/banana04a.jpg\n",
      "images/antlers.jpg\n",
      "images/banjo.jpg\n",
      "images/bacon.jpg\n",
      "images/acorn.jpg\n",
      "images/almond.jpg\n",
      "images/alligator.jpg\n"
     ]
    }
   ],
   "source": [
    "for s in imagelist:\n",
    "    print(s)"
   ]
  },
  {
   "cell_type": "code",
   "execution_count": 10,
   "metadata": {},
   "outputs": [
    {
     "data": {
      "text/plain": [
       "[['images', 'antelope.jpg'],\n",
       " ['images', 'bagel01.jpg'],\n",
       " ['images', 'apple01.jpg'],\n",
       " ['images', 'barn.jpg'],\n",
       " ['images', 'armadillo.jpg'],\n",
       " ['images', 'avocado02.jpg'],\n",
       " ['images', 'banana04a.jpg'],\n",
       " ['images', 'antlers.jpg'],\n",
       " ['images', 'banjo.jpg'],\n",
       " ['images', 'bacon.jpg'],\n",
       " ['images', 'acorn.jpg'],\n",
       " ['images', 'almond.jpg'],\n",
       " ['images', 'alligator.jpg']]"
      ]
     },
     "execution_count": 10,
     "metadata": {},
     "output_type": "execute_result"
    }
   ],
   "source": [
    "[s.split('/') for s in imagelist_clean]"
   ]
  },
  {
   "cell_type": "code",
   "execution_count": null,
   "metadata": {
    "collapsed": true
   },
   "outputs": [],
   "source": []
  }
 ],
 "metadata": {
  "kernelspec": {
   "display_name": "Python 3",
   "language": "python",
   "name": "python3"
  },
  "language_info": {
   "codemirror_mode": {
    "name": "ipython",
    "version": 3
   },
   "file_extension": ".py",
   "mimetype": "text/x-python",
   "name": "python",
   "nbconvert_exporter": "python",
   "pygments_lexer": "ipython3",
   "version": "3.7.0"
  }
 },
 "nbformat": 4,
 "nbformat_minor": 2
}
