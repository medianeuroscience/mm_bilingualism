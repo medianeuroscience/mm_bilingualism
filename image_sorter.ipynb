{
 "cells": [
  {
   "cell_type": "code",
   "execution_count": 10,
   "metadata": {},
   "outputs": [],
   "source": [
    "import glob\n",
    "imagelist = glob.glob(\"images/*\")\n",
    "imagelist_clean = [s.replace(\"'\", \"\") for s in imagelist]"
   ]
  },
  {
   "cell_type": "code",
   "execution_count": 12,
   "metadata": {},
   "outputs": [
    {
     "name": "stdout",
     "output_type": "stream",
     "text": [
      "images/antelope.jpg\n",
      "images/bagel01.jpg\n",
      "images/apple01.jpg\n",
      "images/barn.jpg\n",
      "images/armadillo.jpg\n",
      "images/avocado02.jpg\n",
      "images/banana04a.jpg\n",
      "images/antlers.jpg\n",
      "images/banjo.jpg\n",
      "images/bacon.jpg\n",
      "images/acorn.jpg\n",
      "images/almond.jpg\n",
      "images/alligator.jpg\n"
     ]
    }
   ],
   "source": [
    "for s in imagelist:\n",
    "    print(s)"
   ]
  }
 ],
 "metadata": {
  "kernelspec": {
   "display_name": "Python 3",
   "language": "python",
   "name": "python3"
  },
  "language_info": {
   "codemirror_mode": {
    "name": "ipython",
    "version": 3
   },
   "file_extension": ".py",
   "mimetype": "text/x-python",
   "name": "python",
   "nbconvert_exporter": "python",
   "pygments_lexer": "ipython3",
   "version": "3.6.3"
  }
 },
 "nbformat": 4,
 "nbformat_minor": 2
}
