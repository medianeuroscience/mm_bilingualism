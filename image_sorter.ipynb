{
 "cells": [
  {
   "cell_type": "code",
   "execution_count": 3,
   "metadata": {
    "collapsed": true
   },
   "outputs": [],
   "source": [
    "import glob\n",
    "imagelist = glob.glob(\"images/*\")\n",
    "imagelist_clean = [s.replace(\"'\", \"\") for s in imagelist]"
   ]
  },
  {
   "cell_type": "code",
   "execution_count": 4,
   "metadata": {},
   "outputs": [
    {
     "name": "stdout",
     "output_type": "stream",
     "text": [
      "images/alarmsystem.jpg\n",
      "images/antelope.jpg\n",
      "images/americangoldfinch.jpg\n",
      "images/antenna.jpg\n",
      "images/alarmclock01.jpg\n",
      "images/amphora.jpg\n",
      "images/aluminiumfoil.jpg\n",
      "images/adjustablewrench01a.jpg\n",
      "images/americanwhitepelican.jpg\n",
      "images/amber.jpg\n",
      "images/americangoldfinch (1).jpg\n",
      "images/adjustablewrench01b.jpg\n",
      "images/aircompressor.jpg\n",
      "images/acousticguitar02.jpg\n",
      "images/ant.jpg\n",
      "images/acousticguitar01.jpg\n",
      "images/aloe01.jpg\n",
      "images/accordion02.jpg\n",
      "images/airhockeytable.jpg\n",
      "images/anise.jpg\n",
      "images/angelstatue.jpg\n",
      "images/aloe02.jpg\n",
      "images/accordion01.jpg\n",
      "images/adjustablewrench02c.jpg\n",
      "images/airconditioner.jpg\n",
      "images/50dollarbill.jpg\n",
      "images/airvent.jpg\n",
      "images/adjustablewrench02b.jpg\n",
      "images/adjustablewrench02a.jpg\n",
      "images/antlers.jpg\n",
      "images/alarmclock02b.jpg\n",
      "images/anchor.jpg\n",
      "images/airhockeypaddle01a.jpg\n",
      "images/acorn.jpg\n",
      "images/alarmclock02a.jpg\n",
      "images/almond.jpg\n",
      "images/8ball.jpg\n",
      "images/airhockeypaddle01b.jpg\n",
      "images/aceofdiamond.jpg\n",
      "images/addressplate.jpg\n",
      "images/alligator.jpg\n",
      "images/africanelephant.jpg\n"
     ]
    }
   ],
   "source": [
    "for s in imagelist:\n",
    "    print(s)"
   ]
  },
  {
   "cell_type": "code",
   "execution_count": 5,
   "metadata": {},
   "outputs": [
    {
     "data": {
      "text/plain": [
       "['images/alarmsystem.jpg',\n",
       " 'images/antelope.jpg',\n",
       " 'images/americangoldfinch.jpg',\n",
       " 'images/antenna.jpg',\n",
       " 'images/alarmclock01.jpg',\n",
       " 'images/amphora.jpg',\n",
       " 'images/aluminiumfoil.jpg',\n",
       " 'images/adjustablewrench01a.jpg',\n",
       " 'images/americanwhitepelican.jpg',\n",
       " 'images/amber.jpg',\n",
       " 'images/americangoldfinch (1).jpg',\n",
       " 'images/adjustablewrench01b.jpg',\n",
       " 'images/aircompressor.jpg',\n",
       " 'images/acousticguitar02.jpg',\n",
       " 'images/ant.jpg',\n",
       " 'images/acousticguitar01.jpg',\n",
       " 'images/aloe01.jpg',\n",
       " 'images/accordion02.jpg',\n",
       " 'images/airhockeytable.jpg',\n",
       " 'images/anise.jpg',\n",
       " 'images/angelstatue.jpg',\n",
       " 'images/aloe02.jpg',\n",
       " 'images/accordion01.jpg',\n",
       " 'images/adjustablewrench02c.jpg',\n",
       " 'images/airconditioner.jpg',\n",
       " 'images/50dollarbill.jpg',\n",
       " 'images/airvent.jpg',\n",
       " 'images/adjustablewrench02b.jpg',\n",
       " 'images/adjustablewrench02a.jpg',\n",
       " 'images/antlers.jpg',\n",
       " 'images/alarmclock02b.jpg',\n",
       " 'images/anchor.jpg',\n",
       " 'images/airhockeypaddle01a.jpg',\n",
       " 'images/acorn.jpg',\n",
       " 'images/alarmclock02a.jpg',\n",
       " 'images/almond.jpg',\n",
       " 'images/8ball.jpg',\n",
       " 'images/airhockeypaddle01b.jpg',\n",
       " 'images/aceofdiamond.jpg',\n",
       " 'images/addressplate.jpg',\n",
       " 'images/alligator.jpg',\n",
       " 'images/africanelephant.jpg']"
      ]
     },
     "execution_count": 5,
     "metadata": {},
     "output_type": "execute_result"
    }
   ],
   "source": [
    "imagelist_clean"
   ]
  },
  {
   "cell_type": "code",
   "execution_count": null,
   "metadata": {
    "collapsed": true
   },
   "outputs": [],
   "source": []
  }
 ],
 "metadata": {
  "kernelspec": {
   "display_name": "Python 3",
   "language": "python",
   "name": "python3"
  },
  "language_info": {
   "codemirror_mode": {
    "name": "ipython",
    "version": 3
   },
   "file_extension": ".py",
   "mimetype": "text/x-python",
   "name": "python",
   "nbconvert_exporter": "python",
   "pygments_lexer": "ipython3",
   "version": "3.7.0"
  }
 },
 "nbformat": 4,
 "nbformat_minor": 2
}
